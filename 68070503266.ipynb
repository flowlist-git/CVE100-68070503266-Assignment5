{
 "cells": [
  {
   "cell_type": "markdown",
   "id": "08c314e5",
   "metadata": {},
   "source": [
    "You are asked to design a simple Car Rental System using classes and objects."
   ]
  },
  {
   "cell_type": "code",
   "execution_count": 29,
   "id": "b2d6cf88",
   "metadata": {},
   "outputs": [],
   "source": [
    "class Car :\n",
    "    def __init__(self, model, rent_per_day, available):\n",
    "        self.model = model\n",
    "        self.rent_per_day = rent_per_day\n",
    "        self.available = True #self.available = available score is also correct \n",
    "\n",
    "    def rent(self, days):\n",
    "        if self.available : \n",
    "            self.available = False\n",
    "            total_cost = self.rent_per_day * days\n",
    "            print(\"Car rented. Total cost = \", total_cost)\n",
    "        else :\n",
    "            print(\"Car not available\")\n",
    "\n",
    "    def return_car(self) :\n",
    "        self.available = True\n",
    "        print(\"Car returned\")\n",
    "\n",
    "    def display(self) :\n",
    "        print (\"model\", self.model)\n",
    "        print (\"rent_per_day\" ,self.rent_per_day)\n",
    "        print (\"available\" ,self.available)"
   ]
  },
  {
   "cell_type": "code",
   "execution_count": 31,
   "id": "e967e26e",
   "metadata": {},
   "outputs": [
    {
     "name": "stdout",
     "output_type": "stream",
     "text": [
      "Car rented. Total cost =  37500\n",
      "model Porsche\n",
      "rent_per_day 7500\n",
      "available False\n",
      "Car returned\n",
      "model Porsche\n",
      "rent_per_day 7500\n",
      "available True\n"
     ]
    }
   ],
   "source": [
    "car=Car(\"Porsche\", 7500,True)\n",
    "car.rent(5)\n",
    "car.display()\n",
    "car.return_car()\n",
    "car.display()"
   ]
  },
  {
   "cell_type": "code",
   "execution_count": 52,
   "id": "7c6ed7c1",
   "metadata": {},
   "outputs": [],
   "source": [
    "class Person:\n",
    "    def __init__(self,name,age):\n",
    "        self.name = name\n",
    "        self.age = age\n",
    "    def display_info(self):\n",
    "        print(\"Name :\", self.name)\n",
    "        print(\"Age :\", self.age)\n",
    "class Student(Person):\n",
    "    def __init__(self, name, age, marks):\n",
    "        super().__init__(name, age)\n",
    "        self.marks = {} \n",
    "    def add_marks(self,subject,score):\n",
    "        if subject in self.marks :\n",
    "            old_score = self.marks[subject]\n",
    "            self.marks[subject] = score\n",
    "            print(\"Update the score of the subject\")\n",
    "            print(\"Old score =\", old_score)\n",
    "            print(\"New Score =\",score)\n",
    "        else:\n",
    "            self.marks[subject] = score\n",
    "            print(\"Add new subject\")\n",
    "    def display_marks(self):\n",
    "        print(\"Score =\", self.marks)\n",
    "    def avarage(self):\n",
    "        avarage = sum(self.marks.values()) / len(self.marks)\n",
    "        print(avarage)\n"
   ]
  },
  {
   "cell_type": "code",
   "execution_count": 53,
   "id": "aae60476",
   "metadata": {},
   "outputs": [
    {
     "name": "stdout",
     "output_type": "stream",
     "text": [
      "Add new subject\n",
      "Add new subject\n",
      "Score = {'Phy': 20, 'Math': 16}\n",
      "18.0\n"
     ]
    }
   ],
   "source": [
    "student=Student(\"Sushi\", 17, {})\n",
    "student.add_marks(\"Phy\",20)\n",
    "student.add_marks(\"Math\",16)\n",
    "student.display_marks()\n",
    "student.avarage()"
   ]
  }
 ],
 "metadata": {
  "kernelspec": {
   "display_name": "Python 3",
   "language": "python",
   "name": "python3"
  },
  "language_info": {
   "codemirror_mode": {
    "name": "ipython",
    "version": 3
   },
   "file_extension": ".py",
   "mimetype": "text/x-python",
   "name": "python",
   "nbconvert_exporter": "python",
   "pygments_lexer": "ipython3",
   "version": "3.12.6"
  }
 },
 "nbformat": 4,
 "nbformat_minor": 5
}
